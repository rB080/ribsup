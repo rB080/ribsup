{
 "cells": [
  {
   "cell_type": "code",
   "execution_count": null,
   "id": "0cd446ad",
   "metadata": {},
   "outputs": [],
   "source": [
    "#imports go here: adding the important ones\n",
    "\n",
    "import os\n",
    "import os.path as osp\n",
    "import json\n",
    "#fuck it!"
   ]
  }
 ],
 "metadata": {
  "kernelspec": {
   "display_name": "Python 3 (ipykernel)",
   "language": "python",
   "name": "python3"
  },
  "language_info": {
   "codemirror_mode": {
    "name": "ipython",
    "version": 3
   },
   "file_extension": ".py",
   "mimetype": "text/x-python",
   "name": "python",
   "nbconvert_exporter": "python",
   "pygments_lexer": "ipython3",
   "version": "3.8.2"
  }
 },
 "nbformat": 4,
 "nbformat_minor": 5
}
